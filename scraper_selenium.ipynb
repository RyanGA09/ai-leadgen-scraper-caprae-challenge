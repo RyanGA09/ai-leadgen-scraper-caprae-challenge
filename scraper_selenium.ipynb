{
 "cells": [
  {
   "cell_type": "markdown",
   "id": "6ca6c377",
   "metadata": {},
   "source": [
    "## Import Library"
   ]
  },
  {
   "cell_type": "code",
   "execution_count": 12,
   "id": "d3112c7b",
   "metadata": {},
   "outputs": [
    {
     "data": {
      "text/markdown": [
       "✅ **Libraries imported successfully!**"
      ],
      "text/plain": [
       "<IPython.core.display.Markdown object>"
      ]
     },
     "metadata": {},
     "output_type": "display_data"
    }
   ],
   "source": [
    "# Run this if not installed\n",
    "# !pip install selenium (in Google Colab) | pip install selenium (in Shell)\n",
    "\n",
    "import os\n",
    "from selenium import webdriver\n",
    "from selenium.webdriver.chrome.options import Options\n",
    "from selenium.webdriver.common.by import By\n",
    "from selenium.webdriver.common.keys import Keys\n",
    "from selenium.webdriver.chrome.service import Service\n",
    "from selenium.webdriver.support.ui import WebDriverWait\n",
    "from selenium.webdriver.support import expected_conditions as EC\n",
    "from IPython.display import display, Markdown\n",
    "import time\n",
    "import csv\n",
    "import re\n",
    "\n",
    "display(Markdown(\"✅ **Libraries imported successfully!**\"))"
   ]
  },
  {
   "cell_type": "markdown",
   "id": "bc92721c",
   "metadata": {},
   "source": [
    "## Email Extraction Function"
   ]
  },
  {
   "cell_type": "code",
   "execution_count": 13,
   "id": "3a108cf3",
   "metadata": {},
   "outputs": [
    {
     "data": {
      "text/markdown": [
       "📧 **`extract_emails()` function is ready to use.**"
      ],
      "text/plain": [
       "<IPython.core.display.Markdown object>"
      ]
     },
     "metadata": {},
     "output_type": "display_data"
    }
   ],
   "source": [
    "def extract_emails(text):\n",
    "    return re.findall(r\"[\\w\\.-]+@[\\w\\.-]+\", text)\n",
    "\n",
    "display(Markdown(\"📧 **`extract_emails()` function is ready to use.**\"))"
   ]
  },
  {
   "cell_type": "markdown",
   "id": "50a02ae9",
   "metadata": {},
   "source": [
    "## Leads Search Function via Google (Selenium)"
   ]
  },
  {
   "cell_type": "code",
   "execution_count": null,
   "id": "50f7521e",
   "metadata": {},
   "outputs": [
    {
     "data": {
      "text/markdown": [
       "🧠 **`search_leads()` function is ready to use.**"
      ],
      "text/plain": [
       "<IPython.core.display.Markdown object>"
      ]
     },
     "metadata": {},
     "output_type": "display_data"
    }
   ],
   "source": [
    "def search_leads(query, num_results=10):\n",
    "    chrome_options = Options()\n",
    "    chrome_options.add_argument(\"--headless=new\")\n",
    "    chrome_options.add_argument(\"--disable-gpu\")\n",
    "    chrome_options.add_argument(\"--no-sandbox\")\n",
    "    chrome_options.add_argument(\"--window-size=1920,1080\")\n",
    "    chrome_options.add_argument(\"--disable-blink-features=AutomationControlled\")\n",
    "    chrome_options.add_argument(\n",
    "        \"user-agent=Mozilla/5.0 (Windows NT 10.0; Win64; x64) AppleWebKit/537.36 (KHTML, like Gecko) Chrome/90.0.4430.85 Safari/537.36\"\n",
    "    )\n",
    "\n",
    "    service = Service()\n",
    "    driver = webdriver.Chrome(service=service, options=chrome_options)\n",
    "\n",
    "    display(Markdown(f\"🔍 **Searching for keyword:** `{query}`\"))\n",
    "    driver.get(\"https://www.google.com\")\n",
    "\n",
    "    results = []\n",
    "    try:\n",
    "        search_box = WebDriverWait(driver, 10).until(\n",
    "            EC.presence_of_element_located((By.NAME, \"q\"))\n",
    "        )\n",
    "        search_box.send_keys(query)\n",
    "        search_box.send_keys(Keys.RETURN)\n",
    "\n",
    "        collected_links = set()\n",
    "        page = 0\n",
    "\n",
    "        while len(results) < num_results:\n",
    "            WebDriverWait(driver, 10).until(\n",
    "                EC.presence_of_element_located((By.XPATH, '//div[@class=\"tF2Cxc\"]'))\n",
    "            )\n",
    "            search_results = driver.find_elements(By.XPATH, '//div[@class=\"tF2Cxc\"]')\n",
    "\n",
    "            for result in search_results:\n",
    "                if len(results) >= num_results:\n",
    "                    break\n",
    "\n",
    "                try:\n",
    "                    link_elem = result.find_element(By.XPATH, './/a')\n",
    "                    url = link_elem.get_attribute(\"href\")\n",
    "\n",
    "                    if url in collected_links:\n",
    "                        continue\n",
    "\n",
    "                    collected_links.add(url)\n",
    "\n",
    "                    title = \"(No title)\"\n",
    "                    try:\n",
    "                        title_elem = result.find_element(By.XPATH, './/h3')\n",
    "                        if title_elem:\n",
    "                            title = title_elem.text.strip()\n",
    "                    except:\n",
    "                        pass\n",
    "\n",
    "                    print(f\"🌐 Visiting: {title} ({url})\")\n",
    "                    driver.execute_script(\"window.open(arguments[0]);\", url)\n",
    "                    driver.switch_to.window(driver.window_handles[1])\n",
    "                    time.sleep(3)\n",
    "\n",
    "                    page_text = driver.page_source\n",
    "                    emails = extract_emails(page_text)\n",
    "\n",
    "                    driver.close()\n",
    "                    driver.switch_to.window(driver.window_handles[0])\n",
    "\n",
    "                    results.append({\n",
    "                        \"title\": title if title else \"(No title)\",\n",
    "                        \"url\": url if url else \"(No URL)\",\n",
    "                        \"emails\": emails if url else \"(No emails)\"\n",
    "                    })\n",
    "                except Exception as e:\n",
    "                    print(f\"⚠️ Error accessing result: {e}\")\n",
    "                    try:\n",
    "                        driver.close()\n",
    "                        driver.switch_to.window(driver.window_handles[0])\n",
    "                    except:\n",
    "                        pass\n",
    "\n",
    "            try:\n",
    "                next_button = driver.find_element(By.ID, \"pnnext\")\n",
    "                driver.execute_script(\"arguments[0].scrollIntoView(true);\", next_button)\n",
    "                time.sleep(2)\n",
    "                next_button.click()\n",
    "                page += 1\n",
    "                time.sleep(3)\n",
    "            except:\n",
    "                print(\"📄 No more pages.\")\n",
    "                break\n",
    "\n",
    "    except Exception as e:\n",
    "        print(\"❌ Search failed:\", e)\n",
    "\n",
    "    driver.quit()\n",
    "    return results\n",
    "\n",
    "display(Markdown(\"🧠 **`search_leads()` function is ready to use.**\"))"
   ]
  },
  {
   "cell_type": "markdown",
   "id": "ade1bb12",
   "metadata": {},
   "source": [
    "## Save to CSV function"
   ]
  },
  {
   "cell_type": "code",
   "execution_count": 15,
   "id": "dff227b7",
   "metadata": {},
   "outputs": [
    {
     "data": {
      "text/markdown": [
       "💾 **`save_to_csv()` function is ready to use.**"
      ],
      "text/plain": [
       "<IPython.core.display.Markdown object>"
      ]
     },
     "metadata": {},
     "output_type": "display_data"
    }
   ],
   "source": [
    "def save_to_csv(results, filename=\"demo_leads.csv\"):\n",
    "    folder_path = \"assets/data\"\n",
    "    os.makedirs(folder_path, exist_ok=True)  # Buat folder jika belum ada\n",
    "    full_path = os.path.join(folder_path, filename)\n",
    "\n",
    "    with open(full_path, mode=\"w\", newline=\"\", encoding=\"utf-8\") as f:\n",
    "        writer = csv.DictWriter(f, fieldnames=[\"title\", \"url\", \"emails\"])\n",
    "        writer.writeheader()\n",
    "        for row in results:\n",
    "            writer.writerow({\n",
    "                \"title\": row.get(\"title\", \"\"),\n",
    "                \"url\": row.get(\"url\", \"\"),\n",
    "                \"emails\": \", \".join(row.get(\"emails\", []))\n",
    "            })\n",
    "\n",
    "display(Markdown(\"💾 **`save_to_csv()` function is ready to use.**\"))"
   ]
  },
  {
   "cell_type": "markdown",
   "id": "4b44e2c5",
   "metadata": {},
   "source": [
    "## Running the Scraper"
   ]
  },
  {
   "cell_type": "code",
   "execution_count": null,
   "id": "f590f491",
   "metadata": {},
   "outputs": [
    {
     "data": {
      "text/markdown": [
       "🔍 **Searching for keyword:** `AI startup San Francisco`"
      ],
      "text/plain": [
       "<IPython.core.display.Markdown object>"
      ]
     },
     "metadata": {},
     "output_type": "display_data"
    },
    {
     "name": "stdout",
     "output_type": "stream",
     "text": [
      "🌐 Visiting: Top San Francisco Bay Area, CA Artificial Intelligence ... (https://www.builtinsf.com/companies/type/artificial-intelligence-companies)\n",
      "🌐 Visiting:  (https://www.glassdoor.com/Salaries/san-francisco-ca-ai-engineer-salary-SRCH_IL.0,16_IM759_KO17,28.htm#:~:text=The%20estimated%20total%20pay%20for,salaries%20collected%20from%20our%20users.)\n",
      "🌐 Visiting:  (https://www.uptech.team/blog/ai-cost#:~:text=The%20average%20cost%20to%20develop,pricing%20tag%20of%20AI%20development.)\n",
      "🌐 Visiting:  (https://explodingtopics.com/blog/ai-startups)\n",
      "🌐 Visiting:  (https://www.nucamp.co/blog/coding-bootcamp-san-francisco-ca-inside-san-franciscos-thriving-tech-hub-startups-and-success-stories#:~:text=San%20Francisco%20remains%20the%20ultimate,shaping%20the%20future%20of%20technology.)\n",
      "📄 No more pages.\n"
     ]
    },
    {
     "data": {
      "text/markdown": [
       "✅ **Saved 5 results to `assets/data/demo_leads.csv`**"
      ],
      "text/plain": [
       "<IPython.core.display.Markdown object>"
      ]
     },
     "metadata": {},
     "output_type": "display_data"
    }
   ],
   "source": [
    "# Change the query according to your target market or persona\n",
    "# You can run this cell to search and save results\n",
    "query = input(\"📢 Enter your lead generation keyword: \")\n",
    "leads = search_leads(query, num_results=7)  # You can change the number here\n",
    "if leads:\n",
    "    save_to_csv(leads)\n",
    "    display(Markdown(f\"✅ **Saved {len(leads)} results to `assets/data/demo_leads.csv`**\"))\n",
    "else:\n",
    "    display(Markdown(\"❌ **No leads found.**\"))"
   ]
  }
 ],
 "metadata": {
  "kernelspec": {
   "display_name": "Python 3",
   "language": "python",
   "name": "python3"
  },
  "language_info": {
   "codemirror_mode": {
    "name": "ipython",
    "version": 3
   },
   "file_extension": ".py",
   "mimetype": "text/x-python",
   "name": "python",
   "nbconvert_exporter": "python",
   "pygments_lexer": "ipython3",
   "version": "3.11.5"
  }
 },
 "nbformat": 4,
 "nbformat_minor": 5
}
